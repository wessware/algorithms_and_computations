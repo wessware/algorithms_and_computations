{
 "cells": [
  {
   "cell_type": "code",
   "execution_count": 2,
   "metadata": {},
   "outputs": [],
   "source": [
    "def palindrome(s, startIndex, endIndex, subs):\n",
    "\n",
    "    result = \"\"\n",
    "    for i in range(startIndex):\n",
    "        if _isPalindrome(s[startIndex[i]:endIndex[i]], subs[i]):\n",
    "            result += \"1\"\n",
    "        else:\n",
    "            result += \"0\"\n",
    "\n",
    "    return result\n",
    "\n",
    "def _isPalindrome(s, subs):\n",
    "\n",
    "    n = len(s)\n",
    "    count = 0\n",
    "    for i in range(n //2):\n",
    "        if s[i] != s[n-i-1]:\n",
    "            count += 1\n",
    "\n",
    "    if count <= subs:\n",
    "        return True\n",
    "    else:\n",
    "        return False"
   ]
  },
  {
   "cell_type": "code",
   "execution_count": 3,
   "metadata": {},
   "outputs": [],
   "source": [
    "def math_bisection(f, a, b, tol):\n",
    "    if f(a) * f(b) >= 0:\n",
    "        print(\"Bisection method fails.\")\n",
    "        exit(0)\n",
    "\n",
    "    c = a\n",
    "    while (b - a) >= tol:\n",
    "        c = (a + b) / 2\n",
    "        if f(c) == 0.0:\n",
    "            break\n",
    "        if f(c) * f(a) < 0:\n",
    "            b = c\n",
    "        else:\n",
    "            a = c\n",
    "    return c"
   ]
  },
  {
   "cell_type": "code",
   "execution_count": 4,
   "metadata": {},
   "outputs": [],
   "source": [
    "def f(x):\n",
    "    return x**2 -2\n",
    "a =-2\n",
    "b=2 "
   ]
  },
  {
   "cell_type": "code",
   "execution_count": 5,
   "metadata": {},
   "outputs": [
    {
     "name": "stdout",
     "output_type": "stream",
     "text": [
      "Bisection method fails.\n"
     ]
    },
    {
     "data": {
      "text/plain": [
       "-1.4142141342163086"
      ]
     },
     "execution_count": 5,
     "metadata": {},
     "output_type": "execute_result"
    },
    {
     "ename": "",
     "evalue": "",
     "output_type": "error",
     "traceback": [
      "\u001b[1;31mThe Kernel crashed while executing code in the current cell or a previous cell. \n",
      "\u001b[1;31mPlease review the code in the cell(s) to identify a possible cause of the failure. \n",
      "\u001b[1;31mClick <a href='https://aka.ms/vscodeJupyterKernelCrash'>here</a> for more info. \n",
      "\u001b[1;31mView Jupyter <a href='command:jupyter.viewOutput'>log</a> for further details."
     ]
    }
   ],
   "source": [
    "math_bisection(f, -2, 2, tol=1e-6)"
   ]
  },
  {
   "cell_type": "code",
   "execution_count": null,
   "metadata": {},
   "outputs": [],
   "source": []
  }
 ],
 "metadata": {
  "kernelspec": {
   "display_name": "Python 3",
   "language": "python",
   "name": "python3"
  },
  "language_info": {
   "codemirror_mode": {
    "name": "ipython",
    "version": 3
   },
   "file_extension": ".py",
   "mimetype": "text/x-python",
   "name": "python",
   "nbconvert_exporter": "python",
   "pygments_lexer": "ipython3",
   "version": "3.11.3"
  }
 },
 "nbformat": 4,
 "nbformat_minor": 2
}

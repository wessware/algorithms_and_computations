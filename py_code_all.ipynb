{
 "cells": [
  {
   "cell_type": "code",
   "execution_count": 1,
   "metadata": {},
   "outputs": [],
   "source": [
    "def palindrome(s, startIndex, endIndex, subs):\n",
    "\n",
    "    result = \"\"\n",
    "    for i in range(startIndex):\n",
    "        if _isPalindrome(s[startIndex[i]:endIndex[i]], subs[i]):\n",
    "            result += \"1\"\n",
    "        else:\n",
    "            result += \"0\"\n",
    "\n",
    "    return result\n",
    "\n",
    "def _isPalindrome(s, subs):\n",
    "\n",
    "    n = len(s)\n",
    "    count = 0\n",
    "    for i in range(n //2):\n",
    "        if s[i] != s[n-i-1]:\n",
    "            count += 1\n",
    "\n",
    "    if count <= subs:\n",
    "        return True\n",
    "    else:\n",
    "        return False"
   ]
  },
  {
   "cell_type": "code",
   "execution_count": 2,
   "metadata": {},
   "outputs": [],
   "source": [
    "def math_bisection(f, a, b, tol):\n",
    "    \"\"\"\"ArithmeticError: math domain error\"\"\"\n",
    "    if f(a) * f(b) >= 0:\n",
    "        print(\"Bisection method fails.\")\n",
    "        exit(0)\n",
    "\n",
    "    c = a\n",
    "    while (b - a) >= tol:\n",
    "        c = (a + b) / 2\n",
    "        if f(c) == 0.0:\n",
    "            break\n",
    "        if f(c) * f(a) < 0:\n",
    "            b = c\n",
    "        else:\n",
    "            a = c\n",
    "    return c"
   ]
  },
  {
   "cell_type": "code",
   "execution_count": 3,
   "metadata": {},
   "outputs": [],
   "source": [
    "def f(x):\n",
    "    return x**2 -2\n",
    "a =-2\n",
    "b=2 "
   ]
  },
  {
   "cell_type": "code",
   "execution_count": 4,
   "metadata": {},
   "outputs": [],
   "source": [
    "#math_bisection(f, -2, 2, tol=1e-6)"
   ]
  },
  {
   "cell_type": "code",
   "execution_count": 4,
   "metadata": {},
   "outputs": [],
   "source": [
    "def bisection_m_1 (f, a, b, tol):\n",
    "\n",
    "    while abs(b-a) > tol:\n",
    "        m = (a+b)/2\n",
    "        \n",
    "        if f(m) == 0:\n",
    "            return m\n",
    "        elif f(a) * f(m) < 0:\n",
    "            b = m\n",
    "        else:\n",
    "            a = m\n",
    "    return (a+b)/2"
   ]
  },
  {
   "cell_type": "code",
   "execution_count": 5,
   "metadata": {},
   "outputs": [
    {
     "data": {
      "text/plain": [
       "-1.4142136573791504"
      ]
     },
     "execution_count": 5,
     "metadata": {},
     "output_type": "execute_result"
    }
   ],
   "source": [
    "bisection_m_1(f, -2, 2, tol=1e-6)"
   ]
  },
  {
   "cell_type": "code",
   "execution_count": 6,
   "metadata": {},
   "outputs": [
    {
     "name": "stdout",
     "output_type": "stream",
     "text": [
      "123\n"
     ]
    }
   ],
   "source": [
    "def reverse_numbers(x):\n",
    "    if x < 0:\n",
    "        return 0\n",
    "    \n",
    "    result = 0\n",
    "    power_of_ten = 1\n",
    "    while x > 10:\n",
    "        digit = x % 10\n",
    "        result += digit * power_of_ten\n",
    "        power_of_ten *= 10\n",
    "        x = x // 10\n",
    "\n",
    "    result += x * power_of_ten\n",
    "    return result\n",
    "\n",
    "def is_overflow(x):\n",
    "    max_value = 2**31 - 1\n",
    "    min_value = -2**31\n",
    "    return x > max_value or x < min_value\n",
    "\n",
    "def reverse(x):\n",
    "    if is_overflow(x):\n",
    "        return 0\n",
    "    else:\n",
    "        return reverse_numbers(x)\n",
    "    \n",
    "if __name__ == '__main__':\n",
    "    x = 123\n",
    "    print(reverse(x))"
   ]
  },
  {
   "cell_type": "code",
   "execution_count": 1,
   "metadata": {},
   "outputs": [],
   "source": [
    "def reverse(x):\n",
    "    if x < 0:\n",
    "        return 0\n",
    "    result = 0\n",
    "    power_of_ten = 1\n",
    "    while x > 10:\n",
    "        digit = x % 10\n",
    "        result += digit * power_of_ten\n",
    "        power_of_ten *= 10\n",
    "        x = x // 10\n",
    "    result += x * power_of_ten\n",
    "    return result"
   ]
  },
  {
   "cell_type": "code",
   "execution_count": 2,
   "metadata": {},
   "outputs": [],
   "source": [
    "def reverse_integers(x):\n",
    "    if x>= 0:\n",
    "        sign = 1\n",
    "    else:\n",
    "        sign = -1\n",
    "        x = -x\n",
    "    x_str = str(x)\n",
    "\n",
    "    x_str_reversed = x_str[::-1]\n",
    "\n",
    "    result = int(x_str_reversed) * sign\n",
    "\n",
    "    if result > 2**31 - 1 or result < -2**31:\n",
    "        return 0\n",
    "    return result"
   ]
  },
  {
   "cell_type": "code",
   "execution_count": 3,
   "metadata": {},
   "outputs": [
    {
     "data": {
      "text/plain": [
       "321"
      ]
     },
     "execution_count": 3,
     "metadata": {},
     "output_type": "execute_result"
    }
   ],
   "source": [
    "reverse_integers(123) #check for positive integer "
   ]
  },
  {
   "cell_type": "code",
   "execution_count": 4,
   "metadata": {},
   "outputs": [
    {
     "data": {
      "text/plain": [
       "-321"
      ]
     },
     "execution_count": 4,
     "metadata": {},
     "output_type": "execute_result"
    }
   ],
   "source": [
    "reverse_integers(-123) #check for negative integer"
   ]
  },
  {
   "cell_type": "code",
   "execution_count": 5,
   "metadata": {},
   "outputs": [
    {
     "data": {
      "text/plain": [
       "0"
      ]
     },
     "execution_count": 5,
     "metadata": {},
     "output_type": "execute_result"
    }
   ],
   "source": [
    "reverse_integers(-6759273460982563) #check for large negative integer - not 32 bits"
   ]
  },
  {
   "cell_type": "code",
   "execution_count": null,
   "metadata": {},
   "outputs": [],
   "source": []
  },
  {
   "cell_type": "code",
   "execution_count": null,
   "metadata": {},
   "outputs": [],
   "source": []
  }
 ],
 "metadata": {
  "kernelspec": {
   "display_name": "Python 3",
   "language": "python",
   "name": "python3"
  },
  "language_info": {
   "codemirror_mode": {
    "name": "ipython",
    "version": 3
   },
   "file_extension": ".py",
   "mimetype": "text/x-python",
   "name": "python",
   "nbconvert_exporter": "python",
   "pygments_lexer": "ipython3",
   "version": "3.11.3"
  }
 },
 "nbformat": 4,
 "nbformat_minor": 2
}

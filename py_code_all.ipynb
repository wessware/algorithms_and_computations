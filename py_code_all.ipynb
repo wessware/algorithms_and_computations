{
 "cells": [
  {
   "cell_type": "code",
   "execution_count": 1,
   "metadata": {},
   "outputs": [],
   "source": [
    "def palindrome(s, startIndex, endIndex, subs):\n",
    "\n",
    "    result = \"\"\n",
    "    for i in range(startIndex):\n",
    "        if _isPalindrome(s[startIndex[i]:endIndex[i]], subs[i]):\n",
    "            result += \"1\"\n",
    "        else:\n",
    "            result += \"0\"\n",
    "\n",
    "    return result\n",
    "\n",
    "def _isPalindrome(s, subs):\n",
    "\n",
    "    n = len(s)\n",
    "    count = 0\n",
    "    for i in range(n //2):\n",
    "        if s[i] != s[n-i-1]:\n",
    "            count += 1\n",
    "\n",
    "    if count <= subs:\n",
    "        return True\n",
    "    else:\n",
    "        return False"
   ]
  },
  {
   "cell_type": "code",
   "execution_count": null,
   "metadata": {},
   "outputs": [],
   "source": []
  }
 ],
 "metadata": {
  "kernelspec": {
   "display_name": "Python 3",
   "language": "python",
   "name": "python3"
  },
  "language_info": {
   "codemirror_mode": {
    "name": "ipython",
    "version": 3
   },
   "file_extension": ".py",
   "mimetype": "text/x-python",
   "name": "python",
   "nbconvert_exporter": "python",
   "pygments_lexer": "ipython3",
   "version": "3.11.3"
  }
 },
 "nbformat": 4,
 "nbformat_minor": 2
}

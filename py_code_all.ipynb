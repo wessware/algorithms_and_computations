{
 "cells": [
  {
   "cell_type": "code",
   "execution_count": 1,
   "metadata": {},
   "outputs": [],
   "source": [
    "def palindrome(s, startIndex, endIndex, subs):\n",
    "\n",
    "    result = \"\"\n",
    "    for i in range(startIndex):\n",
    "        if _isPalindrome(s[startIndex[i]:endIndex[i]], subs[i]):\n",
    "            result += \"1\"\n",
    "        else:\n",
    "            result += \"0\"\n",
    "\n",
    "    return result\n",
    "\n",
    "def _isPalindrome(s, subs):\n",
    "\n",
    "    n = len(s)\n",
    "    count = 0\n",
    "    for i in range(n //2):\n",
    "        if s[i] != s[n-i-1]:\n",
    "            count += 1\n",
    "\n",
    "    if count <= subs:\n",
    "        return True\n",
    "    else:\n",
    "        return False"
   ]
  },
  {
   "cell_type": "code",
   "execution_count": 2,
   "metadata": {},
   "outputs": [],
   "source": [
    "def math_bisection(f, a, b, tol):\n",
    "    if f(a) * f(b) >= 0:\n",
    "        print(\"Bisection method fails.\")\n",
    "        exit(0)\n",
    "\n",
    "    c = a\n",
    "    while (b - a) >= tol:\n",
    "        c = (a + b) / 2\n",
    "        if f(c) == 0.0:\n",
    "            break\n",
    "        if f(c) * f(a) < 0:\n",
    "            b = c\n",
    "        else:\n",
    "            a = c\n",
    "    return c"
   ]
  },
  {
   "cell_type": "code",
   "execution_count": 3,
   "metadata": {},
   "outputs": [],
   "source": [
    "def f(x):\n",
    "    return x**2 -2\n",
    "a =-2\n",
    "b=2 "
   ]
  },
  {
   "cell_type": "code",
   "execution_count": 4,
   "metadata": {},
   "outputs": [],
   "source": [
    "#math_bisection(f, -2, 2, tol=1e-6)"
   ]
  },
  {
   "cell_type": "code",
   "execution_count": 5,
   "metadata": {},
   "outputs": [],
   "source": [
    "def bisection_m_1 (f, a, b, tol):\n",
    "\n",
    "    while abs(b-a) > tol:\n",
    "        m = (a+b)/2\n",
    "        \n",
    "        if f(m) == 0:\n",
    "            return m\n",
    "        elif f(a) * f(m) < 0:\n",
    "            b = m\n",
    "        else:\n",
    "            a = m\n",
    "    return (a+b)/2"
   ]
  },
  {
   "cell_type": "code",
   "execution_count": 6,
   "metadata": {},
   "outputs": [
    {
     "data": {
      "text/plain": [
       "-1.4142136573791504"
      ]
     },
     "execution_count": 6,
     "metadata": {},
     "output_type": "execute_result"
    }
   ],
   "source": [
    "bisection_m_1(f, -2, 2, tol=1e-6)"
   ]
  },
  {
   "cell_type": "code",
   "execution_count": null,
   "metadata": {},
   "outputs": [],
   "source": []
  }
 ],
 "metadata": {
  "kernelspec": {
   "display_name": "Python 3",
   "language": "python",
   "name": "python3"
  },
  "language_info": {
   "codemirror_mode": {
    "name": "ipython",
    "version": 3
   },
   "file_extension": ".py",
   "mimetype": "text/x-python",
   "name": "python",
   "nbconvert_exporter": "python",
   "pygments_lexer": "ipython3",
   "version": "3.11.3"
  }
 },
 "nbformat": 4,
 "nbformat_minor": 2
}

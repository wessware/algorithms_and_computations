{
 "cells": [
  {
   "cell_type": "code",
   "execution_count": 1,
   "metadata": {},
   "outputs": [],
   "source": [
    "import numpy as np\n",
    "import matplotlib.pyplot as plt "
   ]
  },
  {
   "cell_type": "code",
   "execution_count": 2,
   "metadata": {},
   "outputs": [],
   "source": [
    "def sir_model(u, t):\n",
    "    S, I, R = u\n",
    "    dS = -beta*S*I\n",
    "    dI = beta*S*I - gamma*I\n",
    "    dR = gamma*I\n",
    "    return np.array([dS, dI, dR])"
   ]
  },
  {
   "cell_type": "code",
   "execution_count": 3,
   "metadata": {},
   "outputs": [],
   "source": [
    "def rk4(f, u0, t0, tf, n):\n",
    "    t = np.linspace(t0, tf, n+1)\n",
    "    u = np.array((n+1) * [u0])\n",
    "    h = (tf - t0) / n\n",
    "\n",
    "    for i in range(n):\n",
    "        k1 = h * f(u[i], t[i])\n",
    "        k2 = h * f(u[i] + 0.5 * k1, t[i] + 0.5 * h)\n",
    "        k3 = h * f(u[i] + 0.5 * k2, t[i] + 0.5 * h)\n",
    "        k4 = h * f(u[i] + k3, t[i] + h)\n",
    "        u[i+1] = u[i] + (k1 + 2 * k2 + 2 * k3 + k4) / 6\n",
    "    return u, t"
   ]
  },
  {
   "cell_type": "code",
   "execution_count": null,
   "metadata": {},
   "outputs": [],
   "source": []
  }
 ],
 "metadata": {
  "kernelspec": {
   "display_name": "Python 3",
   "language": "python",
   "name": "python3"
  },
  "language_info": {
   "codemirror_mode": {
    "name": "ipython",
    "version": 3
   },
   "file_extension": ".py",
   "mimetype": "text/x-python",
   "name": "python",
   "nbconvert_exporter": "python",
   "pygments_lexer": "ipython3",
   "version": "3.11.3"
  }
 },
 "nbformat": 4,
 "nbformat_minor": 2
}
